{
  "nbformat": 4,
  "nbformat_minor": 0,
  "metadata": {
    "colab": {
      "provenance": [],
      "authorship_tag": "ABX9TyOL6RKBSnTftVlnZmIewYA/",
      "include_colab_link": true
    },
    "kernelspec": {
      "name": "python3",
      "display_name": "Python 3"
    },
    "language_info": {
      "name": "python"
    }
  },
  "cells": [
    {
      "cell_type": "markdown",
      "metadata": {
        "id": "view-in-github",
        "colab_type": "text"
      },
      "source": [
        "<a href=\"https://colab.research.google.com/gist/dongVNPTHCM/24095e28b1e1e92f98a44af8beffe4a1/python_basic_2.ipynb\" target=\"_parent\"><img src=\"https://colab.research.google.com/assets/colab-badge.svg\" alt=\"Open In Colab\"/></a>"
      ]
    },
    {
      "cell_type": "code",
      "execution_count": 1,
      "metadata": {
        "colab": {
          "base_uri": "https://localhost:8080/"
        },
        "id": "dZhmk5ha6d_9",
        "outputId": "f3340df0-2024-47af-9c78-8d3edb824319"
      },
      "outputs": [
        {
          "output_type": "stream",
          "name": "stdout",
          "text": [
            "Hãy nhập tên của bạn!đông\n",
            "-----------------------------------\n",
            "<class 'str'>\n",
            "đông\n"
          ]
        }
      ],
      "source": [
        "input_data = input(\"Hãy nhập tên của bạn!\")\n",
        "data_type_input_data = type(input_data)\n",
        "print(\"-----------------------------------\")\n",
        "print(data_type_input_data)\n",
        "print(input_data)"
      ]
    },
    {
      "cell_type": "code",
      "source": [
        "input_data = input(\"Hãy nhập tuổi của bạn!\")\n",
        "input_data_int = int(input_data)\n",
        "data_type = type(input_data_int)\n",
        "print(\"-----------------------------------\")\n",
        "print(data_type)\n",
        "print(input_data_int)"
      ],
      "metadata": {
        "colab": {
          "base_uri": "https://localhost:8080/"
        },
        "id": "iXmOOSG-7dgP",
        "outputId": "320b66c3-2f5c-4be3-8647-f2c4a3a9eaf1"
      },
      "execution_count": 2,
      "outputs": [
        {
          "output_type": "stream",
          "name": "stdout",
          "text": [
            "Hãy nhập tuổi của bạn!12\n",
            "-----------------------------------\n",
            "<class 'int'>\n",
            "12\n"
          ]
        }
      ]
    },
    {
      "cell_type": "code",
      "source": [
        "import math\n",
        "n1 = 1\n",
        "n2 = -2\n",
        "print(math.fabs(n1))\n",
        "print(math.fabs(n2))\n",
        "\n",
        "x = 4\n",
        "print(math.log(x))\n",
        "print(math.log(math.e))\n",
        "print(math.sin(x))\n",
        "print(math.e)\n",
        "print(math.exp(x))\n",
        "print(math.sqrt(x))\n",
        "print(math.cos(x))\n",
        "print(math.pi)"
      ],
      "metadata": {
        "colab": {
          "base_uri": "https://localhost:8080/"
        },
        "id": "cqiC0DSH8D--",
        "outputId": "8952e50d-179f-4b42-d965-8dc6fcfc72d2"
      },
      "execution_count": 5,
      "outputs": [
        {
          "output_type": "stream",
          "name": "stdout",
          "text": [
            "1.0\n",
            "2.0\n",
            "1.3862943611198906\n",
            "1.0\n",
            "-0.7568024953079282\n",
            "2.718281828459045\n",
            "54.598150033144236\n",
            "2.0\n",
            "-0.6536436208636119\n",
            "3.141592653589793\n"
          ]
        }
      ]
    },
    {
      "cell_type": "code",
      "source": [
        "import random\n",
        "print(random.random())\n",
        "print(random.random())\n",
        "print(random.random())\n",
        "print(random.random())\n",
        "\n",
        "print(random.randint(1,9))\n",
        "print(random.randint(1,9))\n",
        "print(random.randint(1,9))\n",
        "print(random.randint(1,9))"
      ],
      "metadata": {
        "colab": {
          "base_uri": "https://localhost:8080/"
        },
        "id": "S-zL_kzi9UJp",
        "outputId": "165fd97b-4bf5-4765-f167-8cc16352e6b8"
      },
      "execution_count": 8,
      "outputs": [
        {
          "output_type": "stream",
          "name": "stdout",
          "text": [
            "0.7421884936773625\n",
            "0.48703563192018506\n",
            "0.989726234139929\n",
            "0.5422296994431621\n",
            "8\n",
            "5\n",
            "8\n",
            "3\n"
          ]
        }
      ]
    },
    {
      "cell_type": "code",
      "source": [],
      "metadata": {
        "id": "gPIwFJw-8fSb"
      },
      "execution_count": null,
      "outputs": []
    }
  ]
}